{
 "cells": [
  {
   "cell_type": "markdown",
   "metadata": {},
   "source": [
    "Automação de números aleatórios em ordem crescente para mega-sena, tele-sena, etc..."
   ]
  },
  {
   "cell_type": "code",
   "execution_count": 78,
   "metadata": {},
   "outputs": [
    {
     "name": "stdout",
     "output_type": "stream",
     "text": [
      "[1, 5, 6, 8, 9, 10, 11, 13, 14, 15, 17, 19, 23, 24, 25]\n",
      "[2, 3, 8, 9, 11, 12, 13, 14, 15, 17, 19, 21, 22, 23, 24]\n",
      "[3, 4, 5, 7, 9, 10, 12, 13, 14, 15, 16, 17, 19, 22, 24]\n",
      "[1, 3, 4, 5, 6, 7, 8, 9, 13, 15, 16, 17, 18, 22, 24]\n",
      "[1, 2, 3, 4, 5, 6, 7, 9, 10, 11, 12, 15, 17, 20, 22]\n",
      "[1, 3, 4, 5, 8, 9, 10, 11, 12, 13, 15, 16, 20, 22, 24]\n",
      "[2, 3, 4, 5, 6, 7, 9, 10, 11, 14, 20, 21, 22, 23, 24]\n",
      "[1, 2, 4, 6, 8, 9, 13, 14, 15, 17, 19, 20, 21, 22, 25]\n",
      "[1, 3, 5, 6, 7, 8, 10, 12, 13, 15, 18, 21, 22, 23, 24]\n",
      "[3, 5, 6, 8, 9, 11, 13, 14, 16, 17, 21, 22, 23, 24, 25]\n"
     ]
    }
   ],
   "source": [
    "from random import sample\n",
    "\n",
    "for i in range(10):\n",
    "    sorteados = sample(range(1, 26), 15) # sample(range(min, max), qt de números)\n",
    "    print(sorted(sorteados))\n",
    "    "
   ]
  }
 ],
 "metadata": {
  "kernelspec": {
   "display_name": "Python 3",
   "language": "python",
   "name": "python3"
  },
  "language_info": {
   "codemirror_mode": {
    "name": "ipython",
    "version": 3
   },
   "file_extension": ".py",
   "mimetype": "text/x-python",
   "name": "python",
   "nbconvert_exporter": "python",
   "pygments_lexer": "ipython3",
   "version": "3.12.5"
  }
 },
 "nbformat": 4,
 "nbformat_minor": 2
}
